{
  "cells": [
    {
      "cell_type": "code",
      "execution_count": 1,
      "metadata": {},
      "outputs": [
        {
          "name": "stdout",
          "output_type": "stream",
          "text": [
            "1.2.2\n"
          ]
        }
      ],
      "source": [
        "# ========== ----- ========== Import Libraries ========== ----- ========== #\n",
        "\n",
        "from LDP import LDP_TOP\n",
        "from LDP import train\n",
        "import sklearn\n",
        "print(sklearn.__version__)\n",
        "\n",
        "import numpy as np\n",
        "import dlib\n",
        "import cv2\n",
        "import os\n",
        "import re\n",
        "import json\n",
        "import numpy as np\n",
        "import pandas as pd\n",
        "\n",
        "from sklearn import svm\n",
        "from sklearn.model_selection import GridSearchCV\n",
        "from sklearn.model_selection import train_test_split\n",
        "from sklearn.metrics import confusion_matrix\n",
        "from sklearn.metrics import accuracy_score\n",
        "from joblib import dump, load\n",
        "\n",
        "import pickle\n",
        "\n",
        "# ========== ----- ========== End ========== ----- ========== #"
      ]
    },
    {
      "cell_type": "code",
      "execution_count": 18,
      "metadata": {},
      "outputs": [],
      "source": [
        "# ========== ----- ========== Load SVM Model ========== ----- ========== #\n",
        "\n",
        "# Load the saved model from the file\n",
        "rbf_faceSwap = load('models/cf40/RBF-FaceSwap.joblib')\n",
        "linear_faceSwap = load('models/cf40/Linear-FaceSwap.joblib')\n",
        "\n",
        "# ========== ----- ========== End ========== ----- ========== #"
      ]
    },
    {
      "cell_type": "code",
      "execution_count": 4,
      "metadata": {},
      "outputs": [],
      "source": [
        "# ========== ----- ========== Reading Test Data ========== ----- ========== #\n",
        "\n",
        "# Reading Testing Data\n",
        "test_frame_folders = [\n",
        "    # 'faceforensics_dataset_test/original_sequences',\n",
        "    # 'faceforensics_dataset_test/manipulated_sequences/Deepfakes',\n",
        "    'faceforensics_dataset_test/manipulated_sequences/Face2Face',\n",
        "    'faceforensics_dataset_test/manipulated_sequences/FaceSwap',\n",
        "    'faceforensics_dataset_test/manipulated_sequences/NeuralTextures'\n",
        "]\n",
        "\n",
        "# ========== ----- ========== End ========== ----- ========== #"
      ]
    },
    {
      "cell_type": "code",
      "execution_count": 46,
      "metadata": {},
      "outputs": [
        {
          "name": "stdout",
          "output_type": "stream",
          "text": [
            "faceforensics_dataset_test/manipulated_sequences/Face2Face videos:  140\n",
            "faceforensics_dataset_test/manipulated_sequences/FaceSwap videos:  140\n",
            "faceforensics_dataset_test/manipulated_sequences/NeuralTextures videos:  140\n"
          ]
        }
      ],
      "source": [
        "# ========== ----- ========== Feature Extraction ========== ----- ========== #\n",
        "\n",
        "# Face detector\n",
        "detector = dlib.get_frontal_face_detector()\n",
        "\n",
        "list_of_test_LDP = []\n",
        "list_of_test_labels = []\n",
        "\n",
        "index = 0\n",
        "for test_frame_folder in test_frame_folders:\n",
        "    list_of_test_data = [f for f in os.listdir(\n",
        "        test_frame_folder) if f.endswith('.mp4')]\n",
        "    \n",
        "    print(test_frame_folder, 'videos: ', len(list_of_test_data))\n",
        "    for vid in list_of_test_data:\n",
        "        list_of_test_LDP.append([])\n",
        "        frames = []\n",
        "        # Video capturing constructor.\n",
        "        cap = cv2.VideoCapture(os.path.join(test_frame_folder, vid))\n",
        "\n",
        "        # (CAP_PROP_FPS) Returns frame rate of the video (#frames / second).\n",
        "        frameRate = cap.get(5)\n",
        "        while cap.isOpened():  # Returns true if video capturing has been initialized already.\n",
        "            # (CAP_PROP_POS_MSEC) Current position of the video file in milliseconds or video capture timestamp.\n",
        "            frameId = cap.get(1)\n",
        "            ret, frame = cap.read()  # The methods/functions combine VideoCapture::grab and VideoCapture::retrieve in one call. This is the most convenient method for reading video files or capturing data from decode and return the just grabbed frame. If no frames has been grabbed (camera has been disconnected, or there are no more frames in video file), the methods return false and the functions return NULL pointer.\n",
        "            if ret != True:\n",
        "                break\n",
        "\n",
        "            face_rects, scores, idx = detector.run(frame, 0)\n",
        "            for i, d in enumerate(face_rects):\n",
        "                x1 = d.left()\n",
        "                y1 = d.top()\n",
        "                x2 = d.right()\n",
        "                y2 = d.bottom()\n",
        "\n",
        "                crop_img = frame[y1:y2, x1:x2]\n",
        "                if crop_img is not None and crop_img.size > 0:\n",
        "                    crop_img = cv2.resize(crop_img, (128, 128))\n",
        "                    gray_scale_img = cv2.cvtColor(crop_img, cv2.COLOR_BGR2GRAY)\n",
        "                    frames.append(gray_scale_img)\n",
        "\n",
        "            # d = 3 seconds.\n",
        "            if frameId % ((int(frameRate)+1)*3) == 0:\n",
        "                if (len(frames) > 0):\n",
        "                    frames_ldp = LDP_TOP(np.array(frames).astype(np.float64))\n",
        "                    list_of_test_LDP[index].append(frames_ldp)\n",
        "\n",
        "                frames = []\n",
        "        index += 1\n",
        "\n",
        "with open('features/Face2Face-FaceSwap-NeuralTextures-Test.pkl', 'wb') as f:\n",
        "    pickle.dump(list_of_test_LDP, f)\n",
        "\n",
        "# ========== ----- ========== End ========== ----- ========== #\n"
      ]
    },
    {
      "cell_type": "code",
      "execution_count": 13,
      "metadata": {},
      "outputs": [],
      "source": [
        "# ========== ----- ========== Feature Loading ========== ----- ========== #\n",
        "\n",
        "# Loading the list_of_train_LDP\n",
        "with open('features/cf40/list_of_test_LDP.pkl', 'rb') as f:\n",
        "    test_features = pickle.load(f)\n",
        "\n",
        "# ========== ----- ========== End ========== ----- ========== #"
      ]
    },
    {
      "cell_type": "code",
      "execution_count": 15,
      "metadata": {},
      "outputs": [],
      "source": [
        "# ========== ----- ========== Prepare Features ========== ----- ========== #\n",
        "\n",
        "# Deepfakes\n",
        "list_of_test_LDP = test_features[:140] + \\\n",
        "    test_features[420:560]\n",
        "\n",
        "# ========== ----- ========== End ========== ----- ========== #\n"
      ]
    },
    {
      "cell_type": "code",
      "execution_count": 19,
      "metadata": {},
      "outputs": [],
      "source": [
        "# ========== ----- ========== SVM Predictions ========== ----- ========== #\n",
        "\n",
        "rbf_faceSwap_predictions = []\n",
        "linear_faceSwap_predictions = []\n",
        "\n",
        "for vid in list_of_test_LDP:\n",
        "    y_pred = rbf_faceSwap.predict(vid)\n",
        "    # print(y_pred)\n",
        "    if np.count_nonzero(y_pred == 1) >= np.count_nonzero(y_pred == 0):\n",
        "        rbf_faceSwap_predictions.append(1)\n",
        "    else:\n",
        "        rbf_faceSwap_predictions.append(0)\n",
        "    # ============================================= #\n",
        "    \n",
        "    y_pred = linear_faceSwap.predict(vid)\n",
        "    # print(y_pred)\n",
        "    if np.count_nonzero(y_pred == 1) >= np.count_nonzero(y_pred == 0):\n",
        "        linear_faceSwap_predictions.append(1)\n",
        "    else:\n",
        "        linear_faceSwap_predictions.append(0)\n",
        "\n",
        "# ========== ----- ========== End ========== ----- ========== #\n"
      ]
    },
    {
      "cell_type": "code",
      "execution_count": 20,
      "metadata": {},
      "outputs": [
        {
          "name": "stdout",
          "output_type": "stream",
          "text": [
            "RBF Accuracy: 0.6535714285714286\n",
            "RBF Confusion matrix:\n",
            " [[133   7]\n",
            " [ 90  50]] \n",
            "\n",
            "Linear Accuracy: 0.7321428571428571\n",
            "Linear Confusion matrix:\n",
            " [[ 96  44]\n",
            " [ 31 109]]\n"
          ]
        }
      ],
      "source": [
        "# ========== ----- ========== SVM Accuracy ========== ----- ========== #\n",
        "\n",
        "labels = [0]*140 + [1]*140\n",
        "\n",
        "# calculate the accuracy score and print it out\n",
        "accuracy = accuracy_score(labels, rbf_faceSwap_predictions)\n",
        "print(\"RBF Accuracy:\", accuracy)\n",
        "\n",
        "# calculate the confusion matrix and print it out\n",
        "cm = confusion_matrix(labels, rbf_faceSwap_predictions)\n",
        "print(\"RBF Confusion matrix:\\n\", cm, \"\\n\")\n",
        "\n",
        "# ================================================ #\n",
        "\n",
        "# calculate the accuracy score and print it out\n",
        "accuracy = accuracy_score(labels, linear_faceSwap_predictions)\n",
        "print(\"Linear Accuracy:\", accuracy)\n",
        "\n",
        "# calculate the confusion matrix and print it out\n",
        "cm = confusion_matrix(labels, linear_faceSwap_predictions)\n",
        "print(\"Linear Confusion matrix:\\n\", cm)\n",
        "\n",
        "# ========== ----- ========== End ========== ----- ========== #\n"
      ]
    },
    {
      "cell_type": "code",
      "execution_count": null,
      "metadata": {},
      "outputs": [],
      "source": []
    }
  ],
  "metadata": {
    "colab": {
      "collapsed_sections": [],
      "name": "DS_LDPcode.ipynb",
      "provenance": [],
      "toc_visible": true
    },
    "kernelspec": {
      "display_name": "Python 3",
      "language": "python",
      "name": "python3"
    },
    "language_info": {
      "codemirror_mode": {
        "name": "ipython",
        "version": 3
      },
      "file_extension": ".py",
      "mimetype": "text/x-python",
      "name": "python",
      "nbconvert_exporter": "python",
      "pygments_lexer": "ipython3",
      "version": "3.10.0"
    }
  },
  "nbformat": 4,
  "nbformat_minor": 0
}
