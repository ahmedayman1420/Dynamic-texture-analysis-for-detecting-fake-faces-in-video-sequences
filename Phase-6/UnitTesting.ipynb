{
  "cells": [
    {
      "cell_type": "code",
      "execution_count": 20,
      "metadata": {
        "id": "G6gvCgiQwuNe"
      },
      "outputs": [],
      "source": [
        "# ========== ----- ========== Import Functions ========== ----- ========== #\n",
        "\n",
        "import cv2\n",
        "import numpy as np\n",
        "\n",
        "from LDP import F\n",
        "from LDP import I\n",
        "from LDP import ldp_pixel\n",
        "from LDP import LDP_TOP\n",
        "\n",
        "img = cv2.imread(\"UnitTesting.jpeg\")\n",
        "temp_img = img.copy()\n",
        "gray_scale_img = cv2.cvtColor(temp_img, cv2.COLOR_BGR2GRAY)\n",
        "gray_scale_img_np = np.asarray(gray_scale_img).astype(np.float64)\n",
        "\n",
        "# ========== ----- ========== End ========== ----- ========== #\n"
      ]
    },
    {
      "cell_type": "code",
      "execution_count": 21,
      "metadata": {},
      "outputs": [
        {
          "name": "stdout",
          "output_type": "stream",
          "text": [
            "Correct Result\n",
            "Correct Result\n"
          ]
        }
      ],
      "source": [
        "# ========== ----- ========== Test F Function ========== ----- ========== #\n",
        "\n",
        "a, b = 5, -5\n",
        "output = F(a, b)\n",
        "if output == \"1\":\n",
        "    print(\"Correct Result\")\n",
        "elif output == \"0\":\n",
        "    print(\"Incorrect Result, Expected 1\")\n",
        "\n",
        "\n",
        "a, b = 5, 3\n",
        "output = F(a, b)\n",
        "if output == \"0\":\n",
        "    print(\"Correct Result\")\n",
        "elif output == \"1\":\n",
        "    print(\"Incorrect Result, Expected 0\")\n",
        "\n",
        "# ========== ----- ========== End ========== ----- ========== #\n"
      ]
    },
    {
      "cell_type": "code",
      "execution_count": 22,
      "metadata": {},
      "outputs": [
        {
          "name": "stdout",
          "output_type": "stream",
          "text": [
            "Correct Result\n",
            "Correct Result\n",
            "Correct Result\n",
            "Correct Result\n"
          ]
        }
      ],
      "source": [
        "# ========== ----- ========== Test I Function ========== ----- ========== #\n",
        "\n",
        "picture = np.array([[1, 2, 3], [4, 5, 6], [7, 8, 9]])\n",
        "\n",
        "h, w, theta = 1, 1, 0\n",
        "output = I(picture, h, w, theta)\n",
        "if output == -1:\n",
        "    print(\"Correct Result\")\n",
        "else:\n",
        "    print(\"Incorrect Result, Expected -1\")\n",
        "\n",
        "\n",
        "theta = 45\n",
        "output = I(picture, h, w, theta)\n",
        "if output == 2:\n",
        "    print(\"Correct Result\")\n",
        "else:\n",
        "    print(\"Incorrect Result, Expected 2\")\n",
        "\n",
        "\n",
        "theta = 90\n",
        "output = I(picture, h, w, theta)\n",
        "if output == 3:\n",
        "    print(\"Correct Result\")\n",
        "else:\n",
        "    print(\"Incorrect Result, Expected 3\")\n",
        "\n",
        "theta = 135\n",
        "output = I(picture, h, w, theta)\n",
        "if output == 4:\n",
        "    print(\"Correct Result\")\n",
        "else:\n",
        "    print(\"Incorrect Result, Expected 4\")\n",
        "\n",
        "# ========== ----- ========== End ========== ----- ========== #\n"
      ]
    },
    {
      "cell_type": "code",
      "execution_count": 23,
      "metadata": {},
      "outputs": [
        {
          "name": "stdout",
          "output_type": "stream",
          "text": [
            "Correct Result\n",
            "Correct Result\n",
            "Correct Result\n",
            "Correct Result\n"
          ]
        }
      ],
      "source": [
        "# ========== ----- ========== Test ldp_pixel Function ========== ----- ========== #\n",
        "\n",
        "picture = np.array([[1, 12, 1, 14, 5], [6, 7, 5, 9, 15], [11, 12, 13, 4, 17], [\n",
        "                   16, 2, 3, 19, 20], [2, 22, 23, 0, 12]])\n",
        "\n",
        "h, w = 2, 2\n",
        "output = ldp_pixel(picture, h, w)\n",
        "if output[0] == 127:\n",
        "    print(\"Correct Result\")\n",
        "else:\n",
        "    print(\"Incorrect Result, Expected 127\")\n",
        "\n",
        "if output[1] == 86:\n",
        "    print(\"Correct Result\")\n",
        "else:\n",
        "    print(\"Incorrect Result, Expected 86\")\n",
        "\n",
        "if output[2] == 182:\n",
        "    print(\"Correct Result\")\n",
        "else:\n",
        "    print(\"Incorrect Result, Expected 182\")\n",
        "\n",
        "if output[3] == 86:\n",
        "    print(\"Correct Result\")\n",
        "else:\n",
        "    print(\"Incorrect Result, Expected 86\")\n",
        "\n",
        "# ========== ----- ========== End ========== ----- ========== #\n"
      ]
    },
    {
      "cell_type": "code",
      "execution_count": 29,
      "metadata": {},
      "outputs": [
        {
          "name": "stdout",
          "output_type": "stream",
          "text": [
            "Correct Result\n"
          ]
        }
      ],
      "source": [
        "# ========== ----- ========== Test LDP_TOP Function ========== ----- ========== #\n",
        "\n",
        "frames = np.array([gray_scale_img_np, gray_scale_img_np, gray_scale_img_np])\n",
        "output = LDP_TOP(frames)\n",
        "\n",
        "if output.shape[0] == 3072:\n",
        "    print(\"Correct Result\")\n",
        "else:\n",
        "    print(\"Incorrect Result, Expected Feature Vector With Lengh 3072\")\n",
        "\n",
        "# ========== ----- ========== End ========== ----- ========== #\n"
      ]
    },
    {
      "cell_type": "code",
      "execution_count": null,
      "metadata": {},
      "outputs": [],
      "source": []
    }
  ],
  "metadata": {
    "colab": {
      "collapsed_sections": [],
      "name": "DS_LDPcode.ipynb",
      "provenance": [],
      "toc_visible": true
    },
    "kernelspec": {
      "display_name": "Python 3",
      "language": "python",
      "name": "python3"
    },
    "language_info": {
      "codemirror_mode": {
        "name": "ipython",
        "version": 3
      },
      "file_extension": ".py",
      "mimetype": "text/x-python",
      "name": "python",
      "nbconvert_exporter": "python",
      "pygments_lexer": "ipython3",
      "version": "3.10.0"
    }
  },
  "nbformat": 4,
  "nbformat_minor": 0
}
