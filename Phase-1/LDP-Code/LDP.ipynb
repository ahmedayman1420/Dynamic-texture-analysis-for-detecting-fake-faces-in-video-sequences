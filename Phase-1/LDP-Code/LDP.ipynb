{
  "cells": [
    {
      "cell_type": "code",
      "execution_count": null,
      "metadata": {
        "id": "G6gvCgiQwuNe"
      },
      "outputs": [],
      "source": [
        "import cv2\n",
        "import numpy as np\n",
        "from matplotlib import pyplot as plt\n",
        "photo1 = cv2.imread(\"aagfhgtpmv_6.png\")\n"
      ]
    },
    {
      "attachments": {},
      "cell_type": "markdown",
      "metadata": {},
      "source": [
        "Repo: https://github.com/antara021/LBPandLDP"
      ]
    },
    {
      "cell_type": "code",
      "execution_count": null,
      "metadata": {
        "id": "8CA4ok-4XW-R"
      },
      "outputs": [],
      "source": [
        "def ldp(photo):\n",
        "  import cv2 \n",
        "  import numpy as np \n",
        "  def assign_bit(picture, x, y, c1,c2,d):  #assign bit according to degree and neighbouring pixel\n",
        "    #a and b are 1 if increasing and 0 if decreasing\n",
        "    if (d==0):\n",
        "      a = 0    \n",
        "      b =0  \n",
        "      try:\n",
        "        if picture[c1][c2+1] >= picture[c1][c2]:\n",
        "          a= 1\n",
        "        if picture[x][y+1] >= picture[x][y]:\n",
        "          b= 1         \n",
        "      except:\n",
        "        pass\n",
        "    if (d==45):\n",
        "      a = 0    \n",
        "      b =0  \n",
        "      try:\n",
        "        if picture[c1-1][c2+1] >= picture[c1][c2]:\n",
        "          a= 1\n",
        "        if picture[x-1][y+1] >= picture[x][y]:\n",
        "          b= 1\n",
        "      except: \n",
        "        pass\n",
        "    if (d==90):\n",
        "      a = 0   \n",
        "      b =0  \n",
        "      try:\n",
        "        if picture[c1-1][c2] >= picture[c1][c2]:\n",
        "          a= 1\n",
        "        if picture[x-1][y] >= picture[x][y]:\n",
        "          b= 1\n",
        "      except:\n",
        "        pass\n",
        "    if (d==135):\n",
        "      a = 0    \n",
        "      b =0 \n",
        "      try:\n",
        "        if picture[c1-1][c2-1] >= picture[c1][c2]:\n",
        "          a= 1\n",
        "        if picture[x-1][y-1] >= picture[x][y]:\n",
        "          b= 1\n",
        "      except:\n",
        "        pass\n",
        "    if (a==b): #if monotonically increasing or decreasing than 0\n",
        "      return \"0\"\n",
        "    else:      #if turning point \n",
        "      return \"1\"\n",
        "    return bit\n",
        "  def local_der_val(picture, x, y):  #calculating local derivative pattern value of a pixel\n",
        "    thirtytwo_bit_binary = []\n",
        "    centre = picture[x][y] \n",
        "    c1=x\n",
        "    c2=y\n",
        "    decimal_val = 0\n",
        "    #starting from top left,assigning bit to pixels clockwise at 0 degree\n",
        "    thirtytwo_bit_binary.append(assign_bit(picture, x-1, y-1,c1,c2,0)) \n",
        "    thirtytwo_bit_binary.append(assign_bit(picture, x-1, y,c1,c2,0))\n",
        "    thirtytwo_bit_binary.append(assign_bit(picture, x-1, y + 1,c1,c2,0)) \n",
        "    thirtytwo_bit_binary.append(assign_bit(picture, x, y + 1, c1,c2,0)) \n",
        "    thirtytwo_bit_binary.append(assign_bit(picture, x + 1, y + 1,c1,c2,0 )) \n",
        "    thirtytwo_bit_binary.append(assign_bit(picture, x + 1, y,c1,c2,0)) \n",
        "    thirtytwo_bit_binary.append(assign_bit(picture, x + 1, y-1,c1,c2,0)) \n",
        "    thirtytwo_bit_binary.append(assign_bit(picture, x, y-1,c1,c2,0)) \n",
        "    \n",
        "    #starting from top left,assigning bit to pixels clockwise at 45 degree\n",
        "    thirtytwo_bit_binary.append(assign_bit(picture, x-1, y-1,c1,c2,45)) \n",
        "    thirtytwo_bit_binary.append(assign_bit(picture, x-1, y,c1,c2,45))\n",
        "    thirtytwo_bit_binary.append(assign_bit(picture, x-1, y + 1,c1,c2,45)) \n",
        "    thirtytwo_bit_binary.append(assign_bit(picture, x, y + 1, c1,c2,45)) \n",
        "    thirtytwo_bit_binary.append(assign_bit(picture, x + 1, y + 1,c1,c2,45)) \n",
        "    thirtytwo_bit_binary.append(assign_bit(picture, x + 1, y,c1,c2,45)) \n",
        "    thirtytwo_bit_binary.append(assign_bit(picture, x + 1, y-1,c1,c2,45)) \n",
        "    thirtytwo_bit_binary.append(assign_bit(picture, x, y-1,c1,c2,45)) \n",
        "    \n",
        "    #starting from top left,assigning bit to pixels clockwise at 90 degree\n",
        "    thirtytwo_bit_binary.append(assign_bit(picture, x-1, y-1,c1,c2,90)) \n",
        "    thirtytwo_bit_binary.append(assign_bit(picture, x-1, y,c1,c2,90))\n",
        "    thirtytwo_bit_binary.append(assign_bit(picture, x-1, y + 1,c1,c2,90)) \n",
        "    thirtytwo_bit_binary.append(assign_bit(picture, x, y + 1, c1,c2,90)) \n",
        "    thirtytwo_bit_binary.append(assign_bit(picture, x + 1, y + 1,c1,c2,90 )) \n",
        "    thirtytwo_bit_binary.append(assign_bit(picture, x + 1, y,c1,c2,90)) \n",
        "    thirtytwo_bit_binary.append(assign_bit(picture, x + 1, y-1,c1,c2,90)) \n",
        "    thirtytwo_bit_binary.append(assign_bit(picture, x, y-1,c1,c2,90)) \n",
        "\n",
        "    #starting from top left,assigning bit to pixels clockwise at 135 degree\n",
        "    thirtytwo_bit_binary.append(assign_bit(picture, x-1, y-1,c1,c2,135)) \n",
        "    thirtytwo_bit_binary.append(assign_bit(picture, x-1, y,c1,c2,135))\n",
        "    thirtytwo_bit_binary.append(assign_bit(picture, x-1, y + 1,c1,c2,135)) \n",
        "    thirtytwo_bit_binary.append(assign_bit(picture, x, y + 1, c1,c2,135)) \n",
        "    thirtytwo_bit_binary.append(assign_bit(picture, x + 1, y + 1,c1,c2,135)) \n",
        "    thirtytwo_bit_binary.append(assign_bit(picture, x + 1, y,c1,c2,135)) \n",
        "    thirtytwo_bit_binary.append(assign_bit(picture, x + 1, y-1,c1,c2,135)) \n",
        "    thirtytwo_bit_binary.append(assign_bit(picture, x, y-1,c1,c2,135)) \n",
        "\n",
        "    str1 = \"\"   \n",
        "    l=str1.join(thirtytwo_bit_binary)#32 bit binary number\n",
        "    decimal_val=int(l,2)   #32 bit binary to decimal number\n",
        "    return decimal_val \n",
        "  m, n, _ = photo.shape \n",
        "  \n",
        "  gray_scale = cv2.cvtColor(photo, cv2.COLOR_BGR2GRAY)  #converting image to grayscale\n",
        "  # ldp_photo = np.zeros((m, n),np.uint8) \n",
        "  ldp_photo = np.zeros((m, n)) \n",
        "  # converting image to ldp\n",
        "  for i in range(0,m): \n",
        "      for j in range(0,n): \n",
        "          ldp_photo[i, j] = local_der_val(gray_scale, i, j) \n",
        " \n",
        "  return ldp_photo\n",
        " "
      ]
    },
    {
      "cell_type": "code",
      "execution_count": null,
      "metadata": {
        "colab": {
          "base_uri": "https://localhost:8080/",
          "height": 388
        },
        "id": "gr-gq-1Hww7Z",
        "outputId": "6b25eaaa-19c8-44d0-cb52-6de257a4fc77"
      },
      "outputs": [],
      "source": [
        "l1=ldp(photo1)\n",
        "plt.imshow(l1, cmap =\"gray\") \n",
        "plt.show() \n",
        "l1"
      ]
    },
    {
      "cell_type": "code",
      "execution_count": null,
      "metadata": {},
      "outputs": [],
      "source": []
    }
  ],
  "metadata": {
    "colab": {
      "collapsed_sections": [],
      "name": "DS_LDPcode.ipynb",
      "provenance": [],
      "toc_visible": true
    },
    "kernelspec": {
      "display_name": "Python 3",
      "language": "python",
      "name": "python3"
    },
    "language_info": {
      "codemirror_mode": {
        "name": "ipython",
        "version": 3
      },
      "file_extension": ".py",
      "mimetype": "text/x-python",
      "name": "python",
      "nbconvert_exporter": "python",
      "pygments_lexer": "ipython3",
      "version": "3.10.0"
    },
    "vscode": {
      "interpreter": {
        "hash": "6bfa36d986fbc1c291755fa9731a4cbae79dd61283ac29a44ae53db584cd6a01"
      }
    }
  },
  "nbformat": 4,
  "nbformat_minor": 0
}
