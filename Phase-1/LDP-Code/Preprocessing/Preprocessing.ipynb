{
  "cells": [
    {
      "cell_type": "code",
      "execution_count": 6,
      "metadata": {
        "id": "G6gvCgiQwuNe"
      },
      "outputs": [],
      "source": [
        "import dlib\n",
        "import cv2\n",
        "import os\n",
        "import re\n",
        "import json"
      ]
    },
    {
      "attachments": {},
      "cell_type": "markdown",
      "metadata": {},
      "source": [
        "Repo: https://github.com/xinyooo/deepfake-detection\n",
        "\n",
        "Dataset: https://www.kaggle.com/c/deepfake-detection-challenge/data"
      ]
    },
    {
      "cell_type": "code",
      "execution_count": 7,
      "metadata": {},
      "outputs": [],
      "source": [
        "train_frame_folder = 'train_sample_videos'\n",
        "with open(os.path.join(train_frame_folder, 'metadata.json'), 'r') as file:\n",
        "    data = json.load(file)\n",
        "list_of_train_data = [f for f in os.listdir(\n",
        "    train_frame_folder) if f.endswith('.mp4')]\n",
        "detector = dlib.get_frontal_face_detector()\n",
        "for vid in list_of_train_data:\n",
        "    count = 0\n",
        "    cap = cv2.VideoCapture(os.path.join(train_frame_folder, vid))\n",
        "    frameRate = cap.get(5)\n",
        "    while cap.isOpened():\n",
        "        frameId = cap.get(1)\n",
        "        ret, frame = cap.read()\n",
        "        if ret != True:\n",
        "            break\n",
        "        if frameId % ((int(frameRate)+1)*1) == 0:\n",
        "            face_rects, scores, idx = detector.run(frame, 0)\n",
        "            for i, d in enumerate(face_rects):\n",
        "                x1 = d.left()\n",
        "                y1 = d.top()\n",
        "                x2 = d.right()\n",
        "                y2 = d.bottom()\n",
        "\n",
        "                crop_img = frame[y1:y2, x1:x2]\n",
        "                h, w, channels = crop_img.shape\n",
        "                half = h//2\n",
        "                top = crop_img[:half, :]\n",
        "                bottom = crop_img[half:, :]\n",
        "\n",
        "                if data[vid]['label'] == 'REAL':\n",
        "                    cv2.imwrite('dataset/real/'+vid.split('.')\n",
        "                                [0]+'_'+str(count)+'.png', cv2.resize(crop_img, (128, 128)))\n",
        "                    cv2.imwrite('dataset/real/'+vid.split('.')\n",
        "                                [0]+'_'+str(count)+'top'+'.png', cv2.resize(top, (128, 128)))\n",
        "                    cv2.imwrite('dataset/real/'+vid.split('.')\n",
        "                                [0]+'_'+str(count)+'bottom'+'.png', cv2.resize(bottom, (128, 128)))\n",
        "                elif data[vid]['label'] == 'FAKE':\n",
        "                    cv2.imwrite('dataset/fake/'+vid.split('.')\n",
        "                                [0]+'_'+str(count)+'.png', cv2.resize(crop_img, (128, 128)))\n",
        "                    cv2.imwrite('dataset/fake/'+vid.split('.')\n",
        "                                [0]+'_'+str(count)+'top'+'.png', cv2.resize(top, (128, 128)))\n",
        "                    cv2.imwrite('dataset/fake/'+vid.split('.')\n",
        "                                [0]+'_'+str(count)+'bottom'+'.png', cv2.resize(bottom, (128, 128)))\n",
        "                count += 1\n"
      ]
    },
    {
      "cell_type": "code",
      "execution_count": null,
      "metadata": {},
      "outputs": [],
      "source": []
    }
  ],
  "metadata": {
    "colab": {
      "collapsed_sections": [],
      "name": "DS_LDPcode.ipynb",
      "provenance": [],
      "toc_visible": true
    },
    "kernelspec": {
      "display_name": "Python 3",
      "language": "python",
      "name": "python3"
    },
    "language_info": {
      "codemirror_mode": {
        "name": "ipython",
        "version": 3
      },
      "file_extension": ".py",
      "mimetype": "text/x-python",
      "name": "python",
      "nbconvert_exporter": "python",
      "pygments_lexer": "ipython3",
      "version": "3.10.0"
    },
    "vscode": {
      "interpreter": {
        "hash": "6bfa36d986fbc1c291755fa9731a4cbae79dd61283ac29a44ae53db584cd6a01"
      }
    }
  },
  "nbformat": 4,
  "nbformat_minor": 0
}
