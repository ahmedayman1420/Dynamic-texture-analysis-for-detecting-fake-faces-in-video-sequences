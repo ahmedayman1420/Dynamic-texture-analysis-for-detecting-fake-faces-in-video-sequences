{
  "cells": [
    {
      "cell_type": "code",
      "execution_count": 1,
      "metadata": {},
      "outputs": [],
      "source": [
        "import cv2\n",
        "import numpy as np\n",
        "from scipy import ndimage\n",
        "from matplotlib import pyplot as plt\n",
        "photo = cv2.imread(\"test.jpeg\")\n",
        "# converting image to grayscale\n",
        "gray_scale = cv2.cvtColor(photo, cv2.COLOR_BGR2GRAY)\n"
      ]
    },
    {
      "cell_type": "code",
      "execution_count": 3,
      "metadata": {},
      "outputs": [],
      "source": [
        "\n",
        "def LDP_1st(I):\n",
        "    # LDP_1st returns 1st-order derivation on 4 directions: 0, 45, 90 and 135 degree\n",
        "    # I: the grayscaled image\n",
        "\n",
        "    h = I.shape[0]  # height of the image\n",
        "    w = I.shape[1]  # width of the image\n",
        "\n",
        "    # filter for horizontal direction (0 degree)\n",
        "    h1 = np.array([[0, 0, 0], [0, 1, -1], [0, 0, 0]])\n",
        "    # filter for diagonal direction (45 degree)\n",
        "    h2 = np.array([[0, 0, -1], [0, 1, 0], [0, 0, 0]])\n",
        "    # filter for vertical direction (90 degree)\n",
        "    h3 = np.array([[0, -1, 0], [0, 1, 0], [0, 0, 0]])\n",
        "    # filter for diagonal direction (135 degree)\n",
        "    h4 = np.array([[-1, 0, 0], [0, 1, 0], [0, 0, 0]])\n",
        "\n",
        "    F = np.hstack([ndimage.convolve(I, h1), ndimage.convolve(I, h2), ndimage.convolve(\n",
        "        I, h3), ndimage.convolve(I, h4)])  # concatenate the filtered images horizontally\n",
        "\n",
        "    return F\n"
      ]
    },
    {
      "cell_type": "code",
      "execution_count": 4,
      "metadata": {},
      "outputs": [],
      "source": [
        "def LDP_2nd(I):\n",
        "    # LDP_2nd returns the second-order derivation on 4 directions: 0, 45, 90 and 135 degrees\n",
        "    # I: the grayscaled image\n",
        "\n",
        "    h = I.shape[0]  # height of the image\n",
        "    w = I.shape[1]  # width of the image\n",
        "\n",
        "    # filter for horizontal direction\n",
        "    h1 = np.array([[0, 0, 0], [0, 1, -1], [0, 0, 0]])\n",
        "    # filter for diagonal direction (450 degree)\n",
        "    h2 = np.array([[0, 0, -1], [0, 1, 0], [0, 0, 0]])\n",
        "    # filter for vertical direction\n",
        "    h3 = np.array([[0, - 1, 0], [0, 1, 0], [0, 0, 0]])\n",
        "    # filter for diagonal direction (135 degree)\n",
        "    h4 = np.array([[-1, 0, 0], [0, 1, 0], [0, 0, 0]])\n",
        "\n",
        "    F_11st = LDP_1st(I)\n",
        "\n",
        "    # concatenate the filtered images horizontally\n",
        "    F = np.hstack([ndimage.convolve(F_11st[:, 1:w], h1), ndimage.convolve(F_11st[:, w+1:2*w], h2),\n",
        "                  ndimage.convolve(F_11st[:, 2*w+1:3*w], h3), ndimage.convolve(F_11st[:, 3*w+1:4*w], h4)])\n",
        "\n",
        "    return F"
      ]
    },
    {
      "cell_type": "code",
      "execution_count": 5,
      "metadata": {},
      "outputs": [],
      "source": [
        "def LDP_2nd_hist(I):\n",
        "    # LDP_2nd_hist returns the unscaled histogram containing 2^8 bins of the input image\n",
        "    # I: the grayscaled image\n",
        "\n",
        "    h = I.shape[0]  # height of the image\n",
        "    w = I.shape[1]  # width of the image\n",
        "\n",
        "    hist = np.zeros(1024)  # 256 bins for each angle\n",
        "\n",
        "    # F = LDP_2nd(I)\n",
        "    F = LDP_1st(I)\n",
        "\n",
        "    F = F > 0\n",
        "\n",
        "    # binary pattern for each pixel\n",
        "    bin_pattern = np.array([[1, 2, 4], [128, 0, 8], [64, 32, 16]])\n",
        "\n",
        "    for k in range(4):  # alpha = 0, 45, 90, 135\n",
        "        for i in range(1, h-1):  # ignore the borders\n",
        "            for j in range(1, w-1):  # ignore the borders\n",
        "                blk_j = k*w + j\n",
        "\n",
        "                pattern = (F[i-1:i+2, (blk_j-1):(blk_j+2)] - F[i][blk_j]) != 0\n",
        "\n",
        "                pattern = np.sum(pattern * bin_pattern)  # 0 <= pattern <=255\n",
        "\n",
        "                index = k*256 + pattern\n",
        "                hist[index] += 1\n",
        "\n",
        "    return hist"
      ]
    },
    {
      "cell_type": "code",
      "execution_count": 7,
      "metadata": {},
      "outputs": [],
      "source": []
    },
    {
      "cell_type": "code",
      "execution_count": 8,
      "metadata": {},
      "outputs": [
        {
          "ename": "TypeError",
          "evalue": "'numpy.ndarray' object is not callable",
          "output_type": "error",
          "traceback": [
            "\u001b[1;31m---------------------------------------------------------------------------\u001b[0m",
            "\u001b[1;31mTypeError\u001b[0m                                 Traceback (most recent call last)",
            "\u001b[1;32m~\\AppData\\Local\\Temp/ipykernel_15500/108239920.py\u001b[0m in \u001b[0;36m<module>\u001b[1;34m\u001b[0m\n\u001b[1;32m----> 1\u001b[1;33m \u001b[0mhist\u001b[0m \u001b[1;33m=\u001b[0m \u001b[0mLDP_2nd_hist\u001b[0m\u001b[1;33m(\u001b[0m\u001b[0mgray_scale\u001b[0m\u001b[1;33m)\u001b[0m\u001b[1;33m\u001b[0m\u001b[1;33m\u001b[0m\u001b[0m\n\u001b[0m\u001b[0;32m      2\u001b[0m \u001b[0mprint\u001b[0m\u001b[1;33m(\u001b[0m\u001b[0mhist\u001b[0m\u001b[1;33m)\u001b[0m\u001b[1;33m\u001b[0m\u001b[1;33m\u001b[0m\u001b[0m\n",
            "\u001b[1;32m~\\AppData\\Local\\Temp/ipykernel_15500/1979028564.py\u001b[0m in \u001b[0;36mLDP_2nd_hist\u001b[1;34m(I)\u001b[0m\n\u001b[0;32m     11\u001b[0m             \u001b[1;32mfor\u001b[0m \u001b[0mj\u001b[0m \u001b[1;32min\u001b[0m \u001b[0mnp\u001b[0m\u001b[1;33m.\u001b[0m\u001b[0marange\u001b[0m\u001b[1;33m(\u001b[0m\u001b[1;36m2\u001b[0m\u001b[1;33m,\u001b[0m \u001b[0mw\u001b[0m \u001b[1;33m-\u001b[0m \u001b[1;36m1\u001b[0m\u001b[1;33m+\u001b[0m\u001b[1;36m1\u001b[0m\u001b[1;33m)\u001b[0m\u001b[1;33m.\u001b[0m\u001b[0mreshape\u001b[0m\u001b[1;33m(\u001b[0m\u001b[1;33m-\u001b[0m\u001b[1;36m1\u001b[0m\u001b[1;33m)\u001b[0m\u001b[1;33m:\u001b[0m\u001b[1;33m\u001b[0m\u001b[1;33m\u001b[0m\u001b[0m\n\u001b[0;32m     12\u001b[0m                 \u001b[0mblk_j\u001b[0m \u001b[1;33m=\u001b[0m \u001b[1;33m(\u001b[0m\u001b[0mk\u001b[0m \u001b[1;33m-\u001b[0m \u001b[1;36m1\u001b[0m\u001b[1;33m)\u001b[0m \u001b[1;33m*\u001b[0m \u001b[0mw\u001b[0m \u001b[1;33m+\u001b[0m \u001b[0mj\u001b[0m\u001b[1;33m\u001b[0m\u001b[1;33m\u001b[0m\u001b[0m\n\u001b[1;32m---> 13\u001b[1;33m                 pattern = (F(np.arange(i - 1, i + 1+1),\n\u001b[0m\u001b[0;32m     14\u001b[0m                            np.arange((blk_j - 1), (blk_j + 1)+1)) * F(i, blk_j)) <= 0\n\u001b[0;32m     15\u001b[0m                 \u001b[0mpattern\u001b[0m \u001b[1;33m=\u001b[0m \u001b[0msum\u001b[0m\u001b[1;33m(\u001b[0m\u001b[0msum\u001b[0m\u001b[1;33m(\u001b[0m\u001b[0mnp\u001b[0m\u001b[1;33m.\u001b[0m\u001b[0mmultiply\u001b[0m\u001b[1;33m(\u001b[0m\u001b[0mpattern\u001b[0m\u001b[1;33m,\u001b[0m \u001b[0mbin_pattern\u001b[0m\u001b[1;33m)\u001b[0m\u001b[1;33m)\u001b[0m\u001b[1;33m)\u001b[0m\u001b[1;33m\u001b[0m\u001b[1;33m\u001b[0m\u001b[0m\n",
            "\u001b[1;31mTypeError\u001b[0m: 'numpy.ndarray' object is not callable"
          ]
        }
      ],
      "source": [
        "hist = LDP_2nd_hist(gray_scale)\n",
        "print(hist)"
      ]
    },
    {
      "cell_type": "code",
      "execution_count": null,
      "metadata": {},
      "outputs": [],
      "source": []
    }
  ],
  "metadata": {
    "colab": {
      "collapsed_sections": [],
      "name": "DS_LDPcode.ipynb",
      "provenance": [],
      "toc_visible": true
    },
    "kernelspec": {
      "display_name": "base",
      "language": "python",
      "name": "python3"
    },
    "language_info": {
      "codemirror_mode": {
        "name": "ipython",
        "version": 3
      },
      "file_extension": ".py",
      "mimetype": "text/x-python",
      "name": "python",
      "nbconvert_exporter": "python",
      "pygments_lexer": "ipython3",
      "version": "3.9.7"
    },
    "vscode": {
      "interpreter": {
        "hash": "7c418817ab26bf150b65e7aa7969c8be7e6d26df55b1ad8c1b8b55b7efae4751"
      }
    }
  },
  "nbformat": 4,
  "nbformat_minor": 0
}
